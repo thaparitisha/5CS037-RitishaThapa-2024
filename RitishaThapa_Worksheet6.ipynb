{
  "cells": [
    {
      "cell_type": "code",
      "execution_count": 40,
      "metadata": {
        "id": "o3vNuZ0DhNOf"
      },
      "outputs": [],
      "source": [
        "import numpy as np\n",
        "import pandas as pd\n",
        "import matplotlib.pyplot as plt"
      ]
    },
    {
      "cell_type": "code",
      "execution_count": 41,
      "metadata": {
        "id": "RnIEwXxJhNOh"
      },
      "outputs": [],
      "source": [
        "def softmax(z):\n",
        "    \"\"\"\n",
        "    Compute the softmax of a 2D numpy array along the specified axis.\n",
        "    Parameters:\n",
        "    z (numpy.ndarray): Input array of shape (m, n) where m is the number of samples\n",
        "    and n is the number of classes.\n",
        "    Returns:\n",
        "    numpy.ndarray: Softmax probabilities of the same shape as input (m, n), where\n",
        "    each row sums to 1 and represents the probability distribution\n",
        "    over classes for a sample.\n",
        "    Notes:\n",
        "    - Applies a normalization trick to prevent numerical instability by subtracting\n",
        "    the max value in each row before exponentiation.\n",
        "    \"\"\"\n",
        "    # Normalize input to prevent numerical instability\n",
        "    exp_z = np.exp(z - np.max(z, axis=1, keepdims=True))\n",
        "    return exp_z / np.sum(exp_z, axis=1, keepdims=True)"
      ]
    },
    {
      "cell_type": "code",
      "execution_count": 42,
      "metadata": {
        "colab": {
          "base_uri": "https://localhost:8080/"
        },
        "id": "_MY-ivqOhNOi",
        "outputId": "eb95afa1-3dea-470e-e61f-3cb1fbe13025"
      },
      "outputs": [
        {
          "output_type": "stream",
          "name": "stdout",
          "text": [
            "Test 1: All zeros\n",
            "Passed.\n",
            "Test 2: Simple case\n",
            "Passed.\n",
            "Test 3: Large identical values\n",
            "Passed.\n",
            "Test 4: Small identical values\n",
            "Passed.\n",
            "Test 5: Mixed positive and negative\n",
            "Passed.\n",
            "All tests passed for softmax function.\n"
          ]
        }
      ],
      "source": [
        "def test_softmax():\n",
        "    \"\"\"\n",
        "    Perform basic assertion tests on the softmax function to validate its correctness.\n",
        "    Tests:\n",
        "    - Ensure that the output probabilities sum to 1 for each row.\n",
        "    - Ensure non-negative values (all probabilities should be >= 0).\n",
        "    - Test on edge cases (e.g., all zeros, very large or small values).\n",
        "    \"\"\"\n",
        "    # Test input\n",
        "    test_cases = [(np.array([[0, 0, 0]]), \"All zeros\"),(np.array([[1, 2, 3]]), \"Simple case\"),(np.array([[1000, 1000, 1000]]), \"Large identical values\"),(np.array([[-1000, -1000, -1000]]), \"Small identical values\"),(np.array([[1, 0, -1]]), \"Mixed positive and negative\")]\n",
        "    for i, (z, description) in enumerate(test_cases):\n",
        "        print(f\"Test {i + 1}: {description}\")\n",
        "        result = softmax(z)\n",
        "        # Check that probabilities sum to 1\n",
        "        assert np.allclose(result.sum(axis=1), 1), f\"Failed: Probabilities do not sum to 1 in {description}\"\n",
        "        # Check non-negativity\n",
        "        assert np.all(result >= 0), f\"Failed: Negative probabilities in {description}\"\n",
        "        print(\"Passed.\")\n",
        "    print(\"All tests passed for softmax function.\")\n",
        "test_softmax()"
      ]
    },
    {
      "cell_type": "code",
      "execution_count": 43,
      "metadata": {
        "id": "phwGKEXIhNOj"
      },
      "outputs": [],
      "source": [
        "def loss_softmax(y_true, y_pred):\n",
        "    \"\"\"\n",
        "    Compute the cross-entropy loss for a single observation.\n",
        "    Parameters:\n",
        "    y_true (numpy.ndarray): True labels (one-hot encoded) of shape (c,).\n",
        "    y_pred (numpy.ndarray): Predicted probabilities of shape (c,).\n",
        "    Returns:\n",
        "    float: Cross-entropy loss for the observation.\n",
        "    \"\"\"\n",
        "    return -np.sum(y_true * np.log(y_pred + 1e-10)) # Add epsilon to prevent log(0)"
      ]
    },
    {
      "cell_type": "code",
      "execution_count": 44,
      "metadata": {
        "colab": {
          "base_uri": "https://localhost:8080/"
        },
        "id": "kgXk7HwOhNOj",
        "outputId": "66894f0d-0a8f-49bf-8fab-b4b54a921223"
      },
      "outputs": [
        {
          "output_type": "stream",
          "name": "stdout",
          "text": [
            "All test cases passed!\n"
          ]
        }
      ],
      "source": [
        "def test_loss_softmax():\n",
        "    \"\"\"\n",
        "    Test the loss_softmax function using a known input and output.\n",
        "    \"\"\"\n",
        "    # Test Case 1: Perfect prediction\n",
        "    y_true = np.array([0, 1, 0]) # True label (one-hot encoded)\n",
        "    y_pred = np.array([0.1, 0.8, 0.1]) # Predicted probabilities\n",
        "    expected_loss = -np.log(0.8) # Expected loss for perfect prediction\n",
        "    assert np.isclose(loss_softmax(y_true, y_pred), expected_loss), \"Test Case 1 Failed\"\n",
        "    # Test Case 2: Incorrect prediction\n",
        "    y_true = np.array([1, 0, 0]) # True label (one-hot encoded)\n",
        "    y_pred = np.array([0.3, 0.4, 0.3]) # Predicted probabilities\n",
        "    expected_loss = -np.log(0.3) # Expected loss for incorrect prediction\n",
        "    assert np.isclose(loss_softmax(y_true, y_pred), expected_loss), \"Test Case 2 Failed\"\n",
        "    # Test Case 3: Edge case with near-zero probability\n",
        "    y_true = np.array([0, 1, 0]) # True label (one-hot encoded)\n",
        "    y_pred = np.array([0.01, 0.98, 0.01]) # Predicted probabilities\n",
        "    expected_loss = -np.log(0.98) # Expected loss for edge case\n",
        "    assert np.isclose(loss_softmax(y_true, y_pred), expected_loss), \"Test Case 3 Failed\"\n",
        "    print(\"All test cases passed!\")\n",
        "# Run the test\n",
        "test_loss_softmax()"
      ]
    },
    {
      "cell_type": "code",
      "execution_count": 45,
      "metadata": {
        "id": "3j4cQPmYhNOj"
      },
      "outputs": [],
      "source": [
        "def cost_softmax(X, y, W, b):\n",
        "    \"\"\"\n",
        "    Compute the average cross-entropy cost over all samples.\n",
        "    Parameters:\n",
        "    X (numpy.ndarray): Feature matrix of shape (n, d).\n",
        "    y (numpy.ndarray): True labels (one-hot encoded) of shape (n, c).\n",
        "    W (numpy.ndarray): Weight matrix of shape (d, c).\n",
        "    b (numpy.ndarray): Bias vector of shape (c,).\n",
        "    Returns:\n",
        "    float: Average cross-entropy cost over all samples.\n",
        "    \"\"\"\n",
        "    n, d = X.shape\n",
        "    z = np.dot(X, W) + b\n",
        "    y_pred = softmax(z)\n",
        "    return -np.sum(y * np.log(y_pred + 1e-10)) / n"
      ]
    },
    {
      "cell_type": "code",
      "execution_count": 46,
      "metadata": {
        "colab": {
          "base_uri": "https://localhost:8080/"
        },
        "id": "sOuGp4xbhNOk",
        "outputId": "cf726fee-94dd-4e80-c0d6-845c6862bc82"
      },
      "outputs": [
        {
          "output_type": "stream",
          "name": "stdout",
          "text": [
            "All test cases passed!\n"
          ]
        }
      ],
      "source": [
        "def test_cost_softmax():\n",
        "    \"\"\"\n",
        "    Test the cost_softmax function using a known input and output.\n",
        "    \"\"\"\n",
        "    # Test Case 1: Small dataset with perfect predictions\n",
        "    X = np.array([[1, 2], [2, 3], [3, 4]]) # Feature matrix (n=3, d=2)\n",
        "    y = np.array([[1, 0], [0, 1], [1, 0]]) # True labels (n=3, c=2, one-hot encoded)\n",
        "    W = np.array([[1, -1], [-1, 1]]) # Weight matrix (d=2, c=2)\n",
        "    b = np.array([0, 0]) # Bias vector (c=2)\n",
        "    z = np.dot(X, W) + b\n",
        "    y_pred = softmax(z) # Predicted probabilities\n",
        "    expected_cost = -np.sum(y * np.log(y_pred + 1e-10)) / X.shape[0] # Compute expected cost\n",
        "    assert np.isclose(cost_softmax(X, y, W, b), expected_cost), \"Test Case 1 Failed\"\n",
        "    # Test Case 2: All-zero weights and bias\n",
        "    X = np.array([[1, 0], [0, 1], [1, 1]]) # Feature matrix (n=3, d=2)\n",
        "    y = np.array([[1, 0], [0, 1], [1, 0]]) # True labels (n=3, c=2, one-hot encoded)\n",
        "    W = np.zeros((2, 2)) # Zero weight matrix\n",
        "    b = np.zeros(2) # Zero bias vector\n",
        "    z = np.dot(X, W) + b\n",
        "    y_pred = softmax(z) # Predicted probabilities (uniform distribution)\n",
        "    expected_cost = -np.sum(y * np.log(y_pred + 1e-10)) / X.shape[0] # Compute expected cost\n",
        "    assert np.isclose(cost_softmax(X, y, W, b), expected_cost), \"Test Case 2 Failed\"\n",
        "    print(\"All test cases passed!\")\n",
        "# Run the test\n",
        "test_cost_softmax()"
      ]
    },
    {
      "cell_type": "code",
      "execution_count": 47,
      "metadata": {
        "id": "AP8Ii0zbhNOk"
      },
      "outputs": [],
      "source": [
        "def compute_gradient_softmax(X, y, W, b):\n",
        "    \"\"\"\n",
        "    Compute the gradients of the cost function with respect to weights and biases.\n",
        "    Parameters:\n",
        "    X (numpy.ndarray): Feature matrix of shape (n, d).\n",
        "    y (numpy.ndarray): True labels (one-hot encoded) of shape (n, c).\n",
        "    W (numpy.ndarray): Weight matrix of shape (d, c).\n",
        "    b (numpy.ndarray): Bias vector of shape (c,).\n",
        "    Returns:\n",
        "    tuple: Gradients with respect to weights (d, c) and biases (c,).\n",
        "    \"\"\"\n",
        "    n, d = X.shape\n",
        "    z = np.dot(X, W) + b\n",
        "    y_pred = softmax(z)\n",
        "    grad_W = np.dot(X.T, (y_pred - y)) / n\n",
        "    grad_b = np.sum(y_pred - y, axis=0) / n\n",
        "    return grad_W, grad_b"
      ]
    },
    {
      "cell_type": "code",
      "execution_count": 48,
      "metadata": {
        "colab": {
          "base_uri": "https://localhost:8080/"
        },
        "id": "TerEPPIuhNOk",
        "outputId": "dd4511f9-bd57-4201-c649-b4c9053c61e5"
      },
      "outputs": [
        {
          "output_type": "stream",
          "name": "stdout",
          "text": [
            "All tests passed for compute_gradient_softmax!\n"
          ]
        }
      ],
      "source": [
        "def test_compute_gradient_softmax():\n",
        "    # Define simple inputs\n",
        "    X = np.array([[1, 2], [3, 4]]) # Shape (2, 2)\n",
        "    y = np.array([[1, 0], [0, 1]]) # Shape (2, 2), one-hot encoded\n",
        "    W = np.array([[0.1, 0.2], [0.3, 0.4]]) # Shape (2, 2)\n",
        "    b = np.array([0.01, 0.02]) # Shape (2,)\n",
        "    # Expected gradients (calculated manually or using a reference implementation)\n",
        "    z = np.dot(X, W) + b\n",
        "    y_pred = softmax(z)\n",
        "    grad_W_expected = np.dot(X.T, (y_pred - y)) / X.shape[0]\n",
        "    grad_b_expected = np.sum(y_pred - y, axis=0) / X.shape[0]\n",
        "    # Compute gradients using the function\n",
        "    grad_W, grad_b = compute_gradient_softmax(X, y, W, b)\n",
        "    # Assertions\n",
        "    assert np.allclose(grad_W, grad_W_expected, atol=1e-6), \"Gradient W does not match expected values\"\n",
        "    assert np.allclose(grad_b, grad_b_expected, atol=1e-6), \"Gradient b does not match expected values\"\n",
        "    print(\"All tests passed for compute_gradient_softmax!\")\n",
        "# Run the test\n",
        "test_compute_gradient_softmax()"
      ]
    },
    {
      "cell_type": "code",
      "execution_count": 49,
      "metadata": {
        "id": "oKCvMlAZhNOk"
      },
      "outputs": [],
      "source": [
        "def gradient_descent_softmax(X, y, W, b, alpha, n_iter, show_cost=False):\n",
        "    \"\"\"\n",
        "    Perform gradient descent to optimize the weights and biases.\n",
        "    Parameters:\n",
        "    X (numpy.ndarray): Feature matrix of shape (n, d).\n",
        "    y (numpy.ndarray): True labels (one-hot encoded) of shape (n, c).\n",
        "    W (numpy.ndarray): Weight matrix of shape (d, c).\n",
        "    b (numpy.ndarray): Bias vector of shape (c,).\n",
        "    alpha (float): Learning rate.\n",
        "    n_iter (int): Number of iterations.\n",
        "    show_cost (bool): Whether to display the cost at intervals.\n",
        "    Returns:\n",
        "    tuple: Optimized weights, biases, and cost history.\n",
        "    \"\"\"\n",
        "    cost_history = []\n",
        "    for i in range(n_iter):\n",
        "        grad_W, grad_b = compute_gradient_softmax(X, y, W, b)\n",
        "        W -= alpha * grad_W\n",
        "        b -= alpha * grad_b\n",
        "        cost = cost_softmax(X, y, W, b)\n",
        "        cost_history.append(cost)\n",
        "        if show_cost and (i % 100 == 0 or i == n_iter - 1):\n",
        "            print(f\"Iteration {i}: Cost = {cost:.6f}\")\n",
        "    return W, b, cost_history"
      ]
    },
    {
      "cell_type": "code",
      "execution_count": 50,
      "metadata": {
        "colab": {
          "base_uri": "https://localhost:8080/",
          "height": 600
        },
        "id": "g4q408FHhNOl",
        "outputId": "aba60769-5318-4ba5-fa44-56e977358834"
      },
      "outputs": [
        {
          "output_type": "display_data",
          "data": {
            "text/plain": [
              "<Figure size 800x600 with 1 Axes>"
            ],
            "image/png": "[encoded data removed]"
          },
          "metadata": {}
        },
        {
          "output_type": "stream",
          "name": "stdout",
          "text": [
            "Initial Cost: 1.1158608479596404\n",
            "Final Cost: 1.0892233754862581\n"
          ]
        }
      ],
      "source": [
        "import matplotlib.pyplot as plt\n",
        "def test_gradient_descent_softmax_with_plot():\n",
        "# Generate synthetic data for testing\n",
        "    np.random.seed(0)\n",
        "    n, d, c = 100, 5, 3 # 100 samples, 5 features, 3 classes\n",
        "    X = np.random.rand(n, d)\n",
        "    y_indices = np.random.randint(0, c, size=n)\n",
        "    y = np.zeros((n, c))\n",
        "    y[np.arange(n), y_indices] = 1\n",
        "    W = np.random.rand(d, c)\n",
        "    b = np.random.rand(c)\n",
        "    # Parameters for gradient descent\n",
        "    alpha = 0.01 # Learning rate\n",
        "    n_iter = 500 # Number of iterations\n",
        "    # Run gradient descent\n",
        "    W_opt, b_opt, cost_history = gradient_descent_softmax(X, y, W, b, alpha, n_iter, show_cost=False)\n",
        "    # Plot the cost history\n",
        "    plt.figure(figsize=(8, 6))\n",
        "    plt.plot(range(n_iter), cost_history, label=\"Cost\")\n",
        "    plt.xlabel(\"Iteration\")\n",
        "    plt.ylabel(\"Cost\")\n",
        "    plt.title(\"Cost Reduction Over Iterations (Learning Rate: {alpha})\")\n",
        "    plt.legend()\n",
        "    plt.grid()\n",
        "    plt.show()\n",
        "    # Final cost should ideally be less than initial cost\n",
        "    print(f\"Initial Cost: {cost_history[0]}\")\n",
        "    print(f\"Final Cost: {cost_history[-1]}\")\n",
        "test_gradient_descent_softmax_with_plot()"
      ]
    },
    {
      "cell_type": "code",
      "execution_count": 51,
      "metadata": {
        "id": "H8_2CrrAhNOl"
      },
      "outputs": [],
      "source": [
        "def predict_softmax(X, W, b):\n",
        "    \"\"\"\n",
        "    Predict the class labels for input data.\n",
        "    Parameters:\n",
        "    X (numpy.ndarray): Feature matrix of shape (n, d).\n",
        "    W (numpy.ndarray): Weight matrix of shape (d, c).\n",
        "    b (numpy.ndarray): Bias vector of shape (c,).\n",
        "    Returns:\n",
        "    numpy.ndarray: Predicted class labels of shape (n,).\n",
        "    \"\"\"\n",
        "    z = np.dot(X, W) + b\n",
        "    y_pred = softmax(z)\n",
        "    return np.argmax(y_pred, axis=1)"
      ]
    },
    {
      "cell_type": "code",
      "execution_count": 52,
      "metadata": {
        "colab": {
          "base_uri": "https://localhost:8080/"
        },
        "id": "fLINbhwohNOl",
        "outputId": "a7f90ea5-5d71-4812-ab1c-9a3342de7542"
      },
      "outputs": [
        {
          "output_type": "stream",
          "name": "stdout",
          "text": [
            "All tests passed for predict_softmax!\n"
          ]
        }
      ],
      "source": [
        "def test_predict_softmax():\n",
        "    # Generate synthetic data for testing\n",
        "    np.random.seed(0)\n",
        "    n, d, c = 10, 5, 3 # 10 samples, 5 features, 3 classes\n",
        "    X = np.random.rand(n, d)\n",
        "    W = np.random.rand(d, c)\n",
        "    b = np.random.rand(c)\n",
        "    # Compute the predictions using the function\n",
        "    predictions = predict_softmax(X, W, b)\n",
        "    # Check the shape of the output\n",
        "    assert predictions.shape == (n,), f\"Shape mismatch: expected {(n,)}, got {predictions.shape}\"\n",
        "    # Verify that all predicted labels are within the range of class indices\n",
        "    assert np.all(predictions >= 0) and np.all(predictions < c), (f\"Predictions out of range: expected 0 to {c-1}, got {predictions}\")\n",
        "    #Check that the predicted labels are integers\n",
        "    assert np.issubdtype(predictions.dtype, np.integer), f\"Predictions are not integers: {predictions.dtype}\"\n",
        "    print(\"All tests passed for predict_softmax!\")\n",
        "# Run the test\n",
        "test_predict_softmax()"
      ]
    },
    {
      "cell_type": "code",
      "execution_count": 53,
      "metadata": {
        "id": "016o_M3-hNOl"
      },
      "outputs": [],
      "source": [
        "def evaluate_classification(y_true, y_pred):\n",
        "  \"\"\"\n",
        "  Evaluate the classification performance using confusion matrix, precision, recall, and F1-score.\n",
        "  Parameters:\n",
        "  y_true (numpy.ndarray): True class labels of shape (n,).\n",
        "  y_pred (numpy.ndarray): Predicted class labels of shape (n,).\n",
        "  Returns:\n",
        "  tuple: Confusion matrix, precision, recall, and F1-score.\n",
        "  \"\"\"\n",
        "  from sklearn.metrics import confusion_matrix, precision_score, recall_score, f1_score\n",
        "  cm = confusion_matrix(y_true, y_pred)\n",
        "  precision = precision_score(y_true, y_pred, average=\"weighted\", zero_division=0)\n",
        "  recall = recall_score(y_true, y_pred, average=\"weighted\", zero_division=0)\n",
        "  f1 = f1_score(y_true, y_pred, average=\"weighted\", zero_division=0)\n",
        "  return cm, precision, recall, f1"
      ]
    },
    {
      "cell_type": "markdown",
      "metadata": {
        "id": "TCqu6lKShNOl"
      },
      "source": [
        "## Putting Helper Function to Action"
      ]
    },
    {
      "cell_type": "code",
      "execution_count": 54,
      "metadata": {
        "id": "bI3MG4zchNOm"
      },
      "outputs": [],
      "source": [
        "def preprocess_titanic_data(file_path):\n",
        "    # Load dataset\n",
        "    df = pd.read_csv(file_path)\n",
        "\n",
        "    df = df.drop([\"PassengerId\", \"Name\", \"Ticket\", \"Cabin\"], axis=1)\n",
        "\n",
        "    df[\"Age\"] = df[\"Age\"].fillna(df[\"Age\"].median())\n",
        "    df[\"Embarked\"] = df[\"Embarked\"].fillna(df[\"Embarked\"].mode()[0])\n",
        "\n",
        "    df[\"Sex\"] = df[\"Sex\"].map({\"male\": 0, \"female\": 1})\n",
        "    df[\"Embarked\"] = df[\"Embarked\"].map({\"C\": 0, \"Q\": 1, \"S\": 2})\n",
        "\n",
        "    return df"
      ]
    },
    {
      "cell_type": "code",
      "execution_count": 58,
      "metadata": {
        "colab": {
          "base_uri": "https://localhost:8080/",
          "height": 856
        },
        "id": "PHP-3DLnhNOm",
        "outputId": "4024e21a-1d0a-4ea6-c9f0-92975f73b2d4"
      },
      "outputs": [
        {
          "output_type": "stream",
          "name": "stdout",
          "text": [
            "Iteration 0: Cost = 11.027925\n",
            "Iteration 100: Cost = 0.983757\n",
            "Iteration 200: Cost = 0.961138\n",
            "Iteration 300: Cost = 0.940243\n",
            "Iteration 400: Cost = 0.920904\n",
            "Iteration 500: Cost = 0.903071\n",
            "Iteration 600: Cost = 0.886675\n",
            "Iteration 700: Cost = 0.871635\n",
            "Iteration 800: Cost = 0.857863\n",
            "Iteration 900: Cost = 0.845260\n",
            "Iteration 999: Cost = 0.833839\n"
          ]
        },
        {
          "output_type": "display_data",
          "data": {
            "text/plain": [
              "<Figure size 800x600 with 1 Axes>"
            ],
            "image/png": "[encoded data removed]"
          },
          "metadata": {}
        },
        {
          "output_type": "stream",
          "name": "stdout",
          "text": [
            "Confusion Matrix:\n",
            "[[157.   0.  59.]\n",
            " [ 34.   1. 149.]\n",
            " [ 57.   3. 431.]]\n",
            "Accuracy: 66.11%\n"
          ]
        }
      ],
      "source": [
        "def softmax_regression_titanic():\n",
        "    # Load and preprocess data\n",
        "    file_path = \"/content/drive/MyDrive/Datasets/Titanic-Dataset.csv\"\n",
        "    df = preprocess_titanic_data(file_path)\n",
        "\n",
        "    X = df.drop(\"Pclass\", axis=1).values\n",
        "    y = df[\"Pclass\"].values\n",
        "\n",
        "    y_one_hot = np.zeros((y.size, y.max()))\n",
        "    y_one_hot[np.arange(y.size), y - 1] = 1\n",
        "\n",
        "    n_samples, n_features = X.shape\n",
        "    n_classes = y_one_hot.shape[1]\n",
        "    W = np.random.rand(n_features, n_classes)\n",
        "    b = np.random.rand(n_classes)\n",
        "\n",
        "    alpha = 0.001\n",
        "    n_iter = 1000\n",
        "\n",
        "    W_opt, b_opt, cost_history = gradient_descent_softmax(X, y_one_hot, W, b, alpha, n_iter, show_cost=True)\n",
        "\n",
        "\n",
        "    plt.figure(figsize=(8, 6))\n",
        "    plt.plot(range(n_iter), cost_history, label=\"Cost\")\n",
        "    plt.xlabel(\"Iteration\")\n",
        "    plt.ylabel(\"Cost\")\n",
        "    plt.title(\"Cost Reduction Over Iterations\")\n",
        "    plt.legend()\n",
        "    plt.grid()\n",
        "    plt.show()\n",
        "\n",
        "    y_pred = predict_softmax(X, W_opt, b_opt)\n",
        "\n",
        "    cm = np.zeros((n_classes, n_classes))\n",
        "    for true_label, pred_label in zip(y - 1, y_pred):\n",
        "        cm[true_label, pred_label] += 1\n",
        "\n",
        "    print(\"Confusion Matrix:\")\n",
        "    print(cm)\n",
        "\n",
        "    accuracy = np.trace(cm) / np.sum(cm)\n",
        "    print(f\"Accuracy: {accuracy * 100:.2f}%\")\n",
        "\n",
        "softmax_regression_titanic()"
      ]
    },
    {
      "cell_type": "code",
      "source": [
        "from google.colab import drive\n",
        "drive.mount('/content/drive')"
      ],
      "metadata": {
        "colab": {
          "base_uri": "https://localhost:8080/"
        },
        "id": "xfauq2ufyhFW",
        "outputId": "d6540079-c81f-4bd2-f1c6-a7f6079bbef6"
      },
      "execution_count": 56,
      "outputs": [
        {
          "output_type": "stream",
          "name": "stdout",
          "text": [
            "Drive already mounted at /content/drive; to attempt to forcibly remount, call drive.mount(\"/content/drive\", force_remount=True).\n"
          ]
        }
      ]
    },
    {
      "cell_type": "code",
      "execution_count": 56,
      "metadata": {
        "id": "mVjIDHl2hNOm"
      },
      "outputs": [],
      "source": []
    }
  ],
  "metadata": {
    "kernelspec": {
      "display_name": "basic",
      "language": "python",
      "name": "python3"
    },
    "language_info": {
      "codemirror_mode": {
        "name": "ipython",
        "version": 3
      },
      "file_extension": ".py",
      "mimetype": "text/x-python",
      "name": "python",
      "nbconvert_exporter": "python",
      "pygments_lexer": "ipython3",
      "version": "3.10.16"
    },
    "colab": {
      "provenance": []
    }
  },
  "nbformat": 4,
  "nbformat_minor": 0
}