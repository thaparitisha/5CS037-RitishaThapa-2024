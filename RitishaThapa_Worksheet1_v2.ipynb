{
  "nbformat": 4,
  "nbformat_minor": 0,
  "metadata": {
    "colab": {
      "provenance": []
    },
    "kernelspec": {
      "name": "python3",
      "display_name": "Python 3"
    },
    "language_info": {
      "name": "python"
    }
  },
  "cells": [
    {
      "cell_type": "markdown",
      "source": [
        "Worksheet-1\n",
        "\n",
        "Problem - 1: Array Creation:\n",
        "\n",
        "Complete the following Tasks:\n",
        "1. Initialize an empty array with size 2X2.\n",
        "2. Initialize an all one array with size 4X2.\n",
        "3. Return a new array of given shape and type, filled with fill value.{Hint: np.full}\n",
        "4. Return a new array of zeros with same shape and type as a given array.{Hint: np.zeros like}\n",
        "5. Return a new array of ones with same shape and type as a given array.{Hint: np.ones like}\n",
        "6. For an existing list new_list = [1,2,3,4] convert to an numpy array.{Hint: np.array()}\n"
      ],
      "metadata": {
        "id": "arkWN35az_Qb"
      }
    },
    {
      "cell_type": "code",
      "source": [
        "import numpy as np\n",
        "\n",
        "#num1\n",
        "empty_array= np.empty((2,2))\n",
        "print( empty_array)\n",
        "print(\"\\n\")\n",
        "\n",
        "#num2\n",
        "all_ones_array= np.ones((4,2))\n",
        "print(all_ones_array)\n",
        "print(\"\\n\")\n",
        "\n",
        "#num3\n",
        "fill_value_array = np.full((3,3),7)\n",
        "print(fill_value_array)\n",
        "print(\"\\n\")\n",
        "\n",
        "#num4\n",
        "my_array = np.array([[1, 2], [3, 4]])\n",
        "zeros_like_array = np.zeros_like(my_array)\n",
        "print(zeros_like_array)\n",
        "print(\"\\n\")\n",
        "\n",
        "#num5\n",
        "my_array = np.array([[1, 2], [3, 4]])\n",
        "ones_like_array = np.ones_like(my_array)\n",
        "print(ones_like_array)\n",
        "print(\"\\n\")\n",
        "\n",
        "#num6\n",
        "my_list = [1, 2, 3, 4]\n",
        "numpy_array = np.array(my_list)\n",
        "print(numpy_array)\n",
        "print(\"\\n\")\n"
      ],
      "metadata": {
        "colab": {
          "base_uri": "https://localhost:8080/"
        },
        "id": "hs4nshZB0YdA",
        "outputId": "d8062f04-e0b3-4237-8065-35961608419b"
      },
      "execution_count": null,
      "outputs": [
        {
          "output_type": "stream",
          "name": "stdout",
          "text": [
            "[[4.9e-324 9.9e-324]\n",
            " [1.5e-323 2.0e-323]]\n",
            "\n",
            "\n",
            "[[1. 1.]\n",
            " [1. 1.]\n",
            " [1. 1.]\n",
            " [1. 1.]]\n",
            "\n",
            "\n",
            "[[7 7 7]\n",
            " [7 7 7]\n",
            " [7 7 7]]\n",
            "\n",
            "\n",
            "[[0 0]\n",
            " [0 0]]\n",
            "\n",
            "\n",
            "[[1 1]\n",
            " [1 1]]\n",
            "\n",
            "\n",
            "[1 2 3 4]\n",
            "\n",
            "\n"
          ]
        }
      ]
    },
    {
      "cell_type": "markdown",
      "source": [
        "Problem - 2: Array Manipulation: Numerical Ranges and Array indexing:\n",
        "Complete the following tasks:\n",
        "1. Create an array with values ranging from 10 to 49. {Hint:np.arrange()}.\n",
        "2. Create a 3X3 matrix with values ranging from 0 to 8.\n",
        "{Hint:look for np.reshape()}\n",
        "3. Create a 3X3 identity matrix.{Hint:np.eye()}\n",
        "4. Create a random array of size 30 and find the mean of the array.\n",
        "{Hint:check for np.random.random() and array.mean() function}\n",
        "5. Create a 10X10 array with random values and find the minimum and maximum values.\n",
        "6. Create a zero array of size 10 and replace 5th element with 1.\n",
        "7. Reverse an array arr = [1,2,0,0,4,0].\n",
        "8. Create a 2d array with 1 on border and 0 inside.\n",
        "9. Create a 8X8 matrix and fill it with a checkerboard pattern."
      ],
      "metadata": {
        "id": "1McqTdLS-Hdk"
      }
    },
    {
      "cell_type": "code",
      "source": [
        "import numpy as np\n",
        "arr = np.arange(11,50)\n",
        "print(arr)\n",
        "\n",
        "matrix = np.arange(9).reshape(3,3)\n",
        "print(matrix)\n",
        "\n",
        "identity = np.eye(3)\n",
        "print(identity)\n",
        "print(\"\\n\")\n",
        "\n",
        "random_array = np.random.random(size=30)\n",
        "print(random_array)\n",
        "print(\"The mean of the above array is: \",random_array.mean())\n",
        "print(\"\\n\")\n",
        "\n",
        "random_array = np.random.random((10,10))\n",
        "print(random_array)\n",
        "print(\"Minimum Value is \",random_array.min())\n",
        "print(\"Maximum Value is \",random_array.max())\n",
        "print(\"\\n\")\n",
        "\n",
        "zero_arr = np.zeros(10)\n",
        "print(zero_arr)\n",
        "zero_arr[5]=1\n",
        "print(zero_arr)\n",
        "print(\"\\n\")\n",
        "\n",
        "arr = [1,2,0,0,4,0]\n",
        "rev = np.flip(arr)\n",
        "print(rev)\n",
        "\n",
        "array = np.zeros((5, 5), dtype=int)\n",
        "\n",
        "# Set the border elements to 1\n",
        "array[0, :] = 1  # Top border\n",
        "array[-1, :] = 1  # Bottom border\n",
        "array[:, 0] = 1  # Left border\n",
        "array[:, -1] = 1  # Right border\n",
        "\n",
        "print(array)\n",
        "print(\"\\n\")\n",
        "\n",
        "# Create an 8x8 matrix of zeros\n",
        "checkerboard = np.zeros((8, 8), dtype=int)\n",
        "\n",
        "# Fill the matrix with a checkerboard pattern\n",
        "checkerboard[::2, ::2] = 1  # Fill 1 at even rows and even columns\n",
        "checkerboard[1::2, 1::2] = 1  # Fill 1 at odd rows and odd columns\n",
        "\n",
        "print(checkerboard)\n"
      ],
      "metadata": {
        "id": "Pl1dK9tC-MzR",
        "colab": {
          "base_uri": "https://localhost:8080/"
        },
        "outputId": "e49c7f4a-72ee-49b7-82e1-8ee281dab8ee"
      },
      "execution_count": null,
      "outputs": [
        {
          "output_type": "stream",
          "name": "stdout",
          "text": [
            "[11 12 13 14 15 16 17 18 19 20 21 22 23 24 25 26 27 28 29 30 31 32 33 34\n",
            " 35 36 37 38 39 40 41 42 43 44 45 46 47 48 49]\n",
            "[[0 1 2]\n",
            " [3 4 5]\n",
            " [6 7 8]]\n",
            "[[1. 0. 0.]\n",
            " [0. 1. 0.]\n",
            " [0. 0. 1.]]\n",
            "\n",
            "\n",
            "[0.24001431 0.48259165 0.5885965  0.33993604 0.89010244 0.66641117\n",
            " 0.38301421 0.75045785 0.15329402 0.68657717 0.15095473 0.132555\n",
            " 0.13283478 0.06099491 0.53970576 0.88343242 0.98985798 0.72719713\n",
            " 0.02599036 0.21011163 0.70734706 0.07056862 0.320246   0.39277908\n",
            " 0.73909821 0.31390535 0.9158082  0.37595434 0.86156088 0.78783268]\n",
            "The mean of the above array is:  0.4839910161892158\n",
            "\n",
            "\n",
            "[[0.93400849 0.13577206 0.71161817 0.93893358 0.07980872 0.67971368\n",
            "  0.31680391 0.09652942 0.26096474 0.84042024]\n",
            " [0.38319144 0.2084951  0.56829609 0.70750208 0.67834218 0.42291633\n",
            "  0.20420956 0.40202255 0.24052288 0.29691008]\n",
            " [0.48493361 0.96926538 0.86759776 0.56384707 0.7226835  0.82276659\n",
            "  0.82855745 0.10846479 0.97857973 0.49155855]\n",
            " [0.22194928 0.0193737  0.54275998 0.5675949  0.18520974 0.71612494\n",
            "  0.10162979 0.97875916 0.56685653 0.63886036]\n",
            " [0.05386364 0.843263   0.73881921 0.61529149 0.97983075 0.82197362\n",
            "  0.84928837 0.32886243 0.96442516 0.80809949]\n",
            " [0.0428881  0.39265511 0.83992049 0.21007867 0.12799946 0.19052511\n",
            "  0.15937732 0.20537008 0.3481955  0.23041427]\n",
            " [0.17264822 0.07289568 0.31275718 0.52556968 0.50879995 0.95168168\n",
            "  0.11684528 0.44906618 0.08346099 0.53058245]\n",
            " [0.94037597 0.99048306 0.14902941 0.36334502 0.20138798 0.95807133\n",
            "  0.36067277 0.93605116 0.79525766 0.00646605]\n",
            " [0.11316037 0.90533042 0.27132193 0.44790308 0.41526479 0.41444337\n",
            "  0.82937423 0.31127945 0.26574836 0.78090643]\n",
            " [0.49015652 0.57533173 0.58944683 0.83860539 0.75361649 0.60795872\n",
            "  0.1290643  0.20669721 0.03074458 0.89031482]]\n",
            "Minimum Value is  0.006466046955374449\n",
            "Maximum Value is  0.9904830573712187\n",
            "\n",
            "\n",
            "[0. 0. 0. 0. 0. 0. 0. 0. 0. 0.]\n",
            "[0. 0. 0. 0. 0. 1. 0. 0. 0. 0.]\n",
            "\n",
            "\n",
            "[0 4 0 0 2 1]\n",
            "[[1 1 1 1 1]\n",
            " [1 0 0 0 1]\n",
            " [1 0 0 0 1]\n",
            " [1 0 0 0 1]\n",
            " [1 1 1 1 1]]\n",
            "\n",
            "\n",
            "[[1 0 1 0 1 0 1 0]\n",
            " [0 1 0 1 0 1 0 1]\n",
            " [1 0 1 0 1 0 1 0]\n",
            " [0 1 0 1 0 1 0 1]\n",
            " [1 0 1 0 1 0 1 0]\n",
            " [0 1 0 1 0 1 0 1]\n",
            " [1 0 1 0 1 0 1 0]\n",
            " [0 1 0 1 0 1 0 1]]\n"
          ]
        }
      ]
    },
    {
      "cell_type": "markdown",
      "source": [
        "Problem - 3: Array Operations:\n",
        "For the following arrays:\n",
        "x = np.array([[1,2],[3,5]]) and y = np.array([[5,6],[7,8]]);\n",
        "v = np.array([9,10]) and w = np.array([11,12]);\n",
        "Complete all the task using numpy:\n",
        "1. Add the two array.\n",
        "2. Subtract the two array.\n",
        "3. Multiply the array with any integers of your choice.\n",
        "4. Find the square of each element of the array.\n",
        "5. Find the dot product between: v(and)w ; x(and)v ; x(and)y.\n",
        "6. Concatenate x(and)y along row and Concatenate v(and)w along column.\n",
        "{Hint:try np.concatenate() or np.vstack() functions.\n",
        "7. Concatenate x(and)v; if you get an error, observe and explain why did you get the error?"
      ],
      "metadata": {
        "id": "bIGaAKQXn2vH"
      }
    },
    {
      "cell_type": "code",
      "source": [
        "import numpy as np\n",
        "\n",
        "x = np.array([[1, 2], [3, 5]])\n",
        "y = np.array([[5, 6], [7, 8]])\n",
        "v = np.array([9, 10])\n",
        "w = np.array([11, 12])\n",
        "\n",
        "#ques1\n",
        "array_sum = x + y\n",
        "print( \"Sum: \",array_sum)\n",
        "\n",
        "# ques2\n",
        "array_diff = x - y\n",
        "print(\"Difference: \",array_diff)\n",
        "\n",
        "# ques3\n",
        "array_multiplied = x * 2\n",
        "print( \"Multiplication: \",array_multiplied)\n",
        "\n",
        "# ques4\n",
        "array_squared = np.square(x)\n",
        "print( \"Square:\", array_squared)\n",
        "\n",
        "# ques5\n",
        "dot_vw = np.dot(v, w)\n",
        "dot_xv = np.dot(x, v)\n",
        "dot_xy = np.dot(x, y)\n",
        "print(\"Dot product of v and w: \",dot_vw)\n",
        "print(\"Dot product of x and v: \",dot_xv)\n",
        "print(\"Dot product of x and y: \",dot_xy)\n",
        "\n",
        "# ques6\n",
        "concat_xy = np.concatenate((x, y), axis=0)  # Along rows\n",
        "concat_vw = np.vstack((v, w))  # Along columns\n",
        "print(\"Concatenation of x and y: \",concat_xy)\n",
        "print(\"Concatenation of v and w: \",concat_vw)\n",
        "\n",
        "# ques7\n",
        "try:\n",
        "    concat_xv = np.concatenate((x, v), axis=0)\n",
        "    print(\"Concatenation of x and v: \",concat_xv)\n",
        "except ValueError as e:\n",
        "    print(\"Error during concatenation of x and v:\", e)\n"
      ],
      "metadata": {
        "id": "uANCZoX0n-U2",
        "colab": {
          "base_uri": "https://localhost:8080/"
        },
        "outputId": "685b53a4-39ef-4630-a894-4878b2fae5c4"
      },
      "execution_count": null,
      "outputs": [
        {
          "output_type": "stream",
          "name": "stdout",
          "text": [
            "Sum:  [[ 6  8]\n",
            " [10 13]]\n",
            "Difference:  [[-4 -4]\n",
            " [-4 -3]]\n",
            "Multiplication:  [[ 2  4]\n",
            " [ 6 10]]\n",
            "Square: [[ 1  4]\n",
            " [ 9 25]]\n",
            "Dot product of v and w:  219\n",
            "Dot product of x and v:  [29 77]\n",
            "Dot product of x and y:  [[19 22]\n",
            " [50 58]]\n",
            "Concatenation of x and y:  [[1 2]\n",
            " [3 5]\n",
            " [5 6]\n",
            " [7 8]]\n",
            "Concatenation of v and w:  [[ 9 10]\n",
            " [11 12]]\n",
            "Error during concatenation of x and v: all the input arrays must have same number of dimensions, but the array at index 0 has 2 dimension(s) and the array at index 1 has 1 dimension(s)\n"
          ]
        }
      ]
    },
    {
      "cell_type": "markdown",
      "source": [
        "Problem - 4: Matrix Operations:\n",
        "• For the following arrays:\n",
        "A = np.array([[3,4],[7,8]]) and B = np.array([[5,3],[2,1]]);\n",
        "Prove following with Numpy:\n",
        "1. Prove A.A−1 = I.\n",
        "2. Prove AB ̸= BA.\n",
        "3. Prove (AB)\n",
        "\n",
        "T = BTAT\n",
        ".\n",
        "\n",
        "• Solve the following system of Linear equation using Inverse Methods.\n",
        "\n",
        "2x − 3y + z = −1\n",
        "x − y + 2z = −3\n",
        "3x + y − z = 9\n",
        "\n",
        "{Hint: First use Numpy array to represent the equation in Matrix form. Then Solve for: AX = B}\n",
        "• Now: solve the above equation using np.linalg.inv function.{Explore more about ”linalg” function\n",
        "of Numpy}"
      ],
      "metadata": {
        "id": "jRItByNc4ksC"
      }
    },
    {
      "cell_type": "code",
      "source": [
        "#part1\n",
        "import numpy as np\n",
        "\n",
        "A = np.array([[3, 4], [7, 8]])\n",
        "B = np.array([[5, 3], [2, 1]])\n",
        "\n",
        "A_inv = np.linalg.inv(A)\n",
        "I = np.dot(A, A_inv)\n",
        "print(\"A * A^-1 = I:\")\n",
        "print(I)\n",
        "\n",
        "AB = np.dot(A, B)\n",
        "BA = np.dot(B, A)\n",
        "AB_not_equal_BA = not np.array_equal(AB, BA)\n",
        "print(\"\\nAB != BA:\", AB_not_equal_BA)\n",
        "\n",
        "AB_T = AB.T\n",
        "BT_AT = np.dot(B.T, A.T)\n",
        "AB_T_equals_BT_AT = np.array_equal(AB_T, BT_AT)\n",
        "print(\"\\n(AB)^T = B^T * A^T:\", AB_T_equals_BT_AT)"
      ],
      "metadata": {
        "id": "tXthjwc34v0b",
        "colab": {
          "base_uri": "https://localhost:8080/"
        },
        "outputId": "0065fea5-0fa7-48ba-e035-0d3b876475b9"
      },
      "execution_count": null,
      "outputs": [
        {
          "output_type": "stream",
          "name": "stdout",
          "text": [
            "A * A^-1 = I:\n",
            "[[1.00000000e+00 0.00000000e+00]\n",
            " [1.77635684e-15 1.00000000e+00]]\n",
            "\n",
            "AB != BA: True\n",
            "\n",
            "(AB)^T = B^T * A^T: True\n"
          ]
        }
      ]
    },
    {
      "cell_type": "code",
      "source": [
        "#part2\n",
        "import numpy as np\n",
        "\n",
        "A = np.array([[2, -3, 1],\n",
        "              [1, -1, 2],\n",
        "              [3, 1, -1]])\n",
        "B = np.array([-1, -3, 9])\n",
        "\n",
        "A_inv = np.linalg.inv(A)\n",
        "X = np.dot(A_inv, B)\n",
        "print(\"Solution (x, y, z):\", X)"
      ],
      "metadata": {
        "colab": {
          "base_uri": "https://localhost:8080/"
        },
        "id": "jeyvBBAiLljb",
        "outputId": "15f4e6b7-7846-4afc-d112-ba8b0e1330ca"
      },
      "execution_count": null,
      "outputs": [
        {
          "output_type": "stream",
          "name": "stdout",
          "text": [
            "Solution (x, y, z): [ 2.  1. -2.]\n"
          ]
        }
      ]
    },
    {
      "cell_type": "markdown",
      "source": [
        "4.2 How fast is NumPy?"
      ],
      "metadata": {
        "id": "dEfuydBw4jHO"
      }
    },
    {
      "cell_type": "code",
      "source": [
        "import numpy as np\n",
        "import time\n",
        "\n",
        "# Function to measure time taken for an operation\n",
        "def measure_time(func):\n",
        "    start_time = time.time()\n",
        "    func()\n",
        "    end_time = time.time()\n",
        "    return end_time - start_time\n",
        "\n",
        "# 1. Element-wise Addition\n",
        "def element_wise_addition_python():\n",
        "    list1 = [i for i in range(1_000_000)]\n",
        "    list2 = [i for i in range(1_000_000)]\n",
        "    result = [list1[i] + list2[i] for i in range(len(list1))]\n",
        "\n",
        "def element_wise_addition_numpy():\n",
        "    arr1 = np.arange(1_000_000)\n",
        "    arr2 = np.arange(1_000_000)\n",
        "    result = arr1 + arr2\n",
        "\n",
        "print(\"To Perform Element-wise Addition,\")\n",
        "print(f\"Using python lists, it took {measure_time(element_wise_addition_python):.6f} seconds\")\n",
        "print(f\"Using numpy array, it took {measure_time(element_wise_addition_numpy):.6f} seconds\")\n",
        "\n",
        "# 2. Element-wise Multiplication\n",
        "def element_wise_multiplication_python():\n",
        "    list1 = [i for i in range(1_000_000)]\n",
        "    list2 = [i for i in range(1_000_000)]\n",
        "    result = [list1[i] * list2[i] for i in range(len(list1))]\n",
        "\n",
        "def element_wise_multiplication_numpy():\n",
        "    arr1 = np.arange(1_000_000)\n",
        "    arr2 = np.arange(1_000_000)\n",
        "    result = arr1 * arr2\n",
        "\n",
        "print(\"\\nTo Perform Element-wise Multiplication,\")\n",
        "print(f\"Using python lists, it took {measure_time(element_wise_multiplication_python):.6f} seconds\")\n",
        "print(f\"Using numpy array, it took {measure_time(element_wise_multiplication_numpy):.6f} seconds\")\n",
        "\n",
        "# 3. Dot Product\n",
        "def dot_product_python():\n",
        "    list1 = [i for i in range(1_000_000)]\n",
        "    list2 = [i for i in range(1_000_000)]\n",
        "    result = sum(list1[i] * list2[i] for i in range(len(list1)))\n",
        "\n",
        "def dot_product_numpy():\n",
        "    arr1 = np.arange(1_000_000)\n",
        "    arr2 = np.arange(1_000_000)\n",
        "    result = np.dot(arr1, arr2)\n",
        "\n",
        "print(\"\\nTo Perform Dot Product,\")\n",
        "print(f\"Using python lists, it took {measure_time(dot_product_python):.6f} seconds\")\n",
        "print(f\"Using numpy array, it took {measure_time(dot_product_numpy):.6f} seconds\")\n",
        "\n",
        "# 4. Matrix Multiplication\n",
        "def matrix_multiplication_python():\n",
        "    mat1 = [[j for j in range(1000)] for i in range(1000)]\n",
        "    mat2 = [[j for j in range(1000)] for i in range(1000)]\n",
        "    result = [[sum(a * b for a, b in zip(row, col)) for col in zip(*mat2)] for row in mat1]\n",
        "\n",
        "def matrix_multiplication_numpy():\n",
        "    mat1 = np.arange(1000*1000).reshape(1000, 1000)\n",
        "    mat2 = np.arange(1000*1000).reshape(1000, 1000)\n",
        "    result = np.dot(mat1, mat2)\n",
        "\n",
        "print(\"\\nTo Perform Matrix Multiplication,\")\n",
        "print(f\"Using python lists, it took {measure_time(matrix_multiplication_python):.6f} seconds\")\n",
        "print(f\"Using numpy array, it took {measure_time(matrix_multiplication_numpy):.6f} seconds\")\n"
      ],
      "metadata": {
        "colab": {
          "base_uri": "https://localhost:8080/"
        },
        "id": "t2oou61d52xZ",
        "outputId": "ce6d837c-3e61-4890-e9b9-fbffd660d9bd"
      },
      "execution_count": 3,
      "outputs": [
        {
          "output_type": "stream",
          "name": "stdout",
          "text": [
            "To Perform Element-wise Addition,\n",
            "Using python lists, it took 0.261357 seconds\n",
            "Using numpy array, it took 0.010768 seconds\n",
            "\n",
            "To Perform Element-wise Multiplication,\n",
            "Using python lists, it took 0.233215 seconds\n",
            "Using numpy array, it took 0.011994 seconds\n",
            "\n",
            "To Perform Dot Product,\n",
            "Using python lists, it took 0.230913 seconds\n",
            "Using numpy array, it took 0.008252 seconds\n",
            "\n",
            "To Perform Matrix Multiplication,\n",
            "Using python lists, it took 165.619574 seconds\n",
            "Using numpy array, it took 1.844171 seconds\n"
          ]
        }
      ]
    }
  ]
}