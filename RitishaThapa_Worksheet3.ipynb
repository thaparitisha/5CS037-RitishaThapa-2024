{
  "nbformat": 4,
  "nbformat_minor": 0,
  "metadata": {
    "colab": {
      "provenance": []
    },
    "kernelspec": {
      "name": "python3",
      "display_name": "Python 3"
    },
    "language_info": {
      "name": "python"
    }
  },
  "cells": [
    {
      "cell_type": "code",
      "source": [
        "from google.colab import drive\n",
        "drive.mount('/content/drive')"
      ],
      "metadata": {
        "id": "dyDDhY-3Cg87",
        "colab": {
          "base_uri": "https://localhost:8080/"
        },
        "outputId": "6924d38e-4cbc-4bca-af89-d4f281446712"
      },
      "execution_count": 1,
      "outputs": [
        {
          "output_type": "stream",
          "name": "stdout",
          "text": [
            "Drive already mounted at /content/drive; to attempt to forcibly remount, call drive.mount(\"/content/drive\", force_remount=True).\n"
          ]
        }
      ]
    },
    {
      "cell_type": "markdown",
      "source": [
        "Complete all following Task:\n",
        "• Dataset for the Task: \"titanic.csv\"\n",
        "Following task is common for all the problem:\n",
        "1. Load the provided dataset and import in pandas DataFrame.\n",
        "2. Check info of the DataFrame and identify following:\n",
        "\n",
        "Problem 1 - Sorting:\n",
        "1. Create a DataFrame called fare that contains only the Fare column of the Titanic dataset. Print the\n",
        "head of the result.\n",
        "2. Create a DataFrame called class age that contains only the Pclass and Age columns of the Titanic\n",
        "dataset, in that order. Print the head of the result.\n",
        "3. Create a DataFrame called survived gender that contains the Survived and Sex columns of the\n",
        "Titanic dataset, in that order.Print the head of the result."
      ],
      "metadata": {
        "id": "Y-V3b8QABIiF"
      }
    },
    {
      "cell_type": "code",
      "source": [
        "#load the dataset\n",
        "import pandas as pd\n",
        "df = pd.read_csv(\"/content/drive/MyDrive/Datasets/Titanic-Dataset.csv\")\n"
      ],
      "metadata": {
        "id": "_kUI1RYNBMKF"
      },
      "execution_count": 2,
      "outputs": []
    },
    {
      "cell_type": "code",
      "source": [
        "#check info of dataframe\n",
        "print(\"DataFrame Info:\")\n",
        "print(df.info())"
      ],
      "metadata": {
        "colab": {
          "base_uri": "https://localhost:8080/"
        },
        "id": "h095GaZ7DGyk",
        "outputId": "0c39b4a1-f62f-4238-a34b-8b5cadab6a56"
      },
      "execution_count": 3,
      "outputs": [
        {
          "output_type": "stream",
          "name": "stdout",
          "text": [
            "DataFrame Info:\n",
            "<class 'pandas.core.frame.DataFrame'>\n",
            "RangeIndex: 891 entries, 0 to 890\n",
            "Data columns (total 12 columns):\n",
            " #   Column       Non-Null Count  Dtype  \n",
            "---  ------       --------------  -----  \n",
            " 0   PassengerId  891 non-null    int64  \n",
            " 1   Survived     891 non-null    int64  \n",
            " 2   Pclass       891 non-null    int64  \n",
            " 3   Name         891 non-null    object \n",
            " 4   Sex          891 non-null    object \n",
            " 5   Age          714 non-null    float64\n",
            " 6   SibSp        891 non-null    int64  \n",
            " 7   Parch        891 non-null    int64  \n",
            " 8   Ticket       891 non-null    object \n",
            " 9   Fare         891 non-null    float64\n",
            " 10  Cabin        204 non-null    object \n",
            " 11  Embarked     889 non-null    object \n",
            "dtypes: float64(2), int64(5), object(5)\n",
            "memory usage: 83.7+ KB\n",
            "None\n"
          ]
        }
      ]
    },
    {
      "cell_type": "code",
      "source": [
        "#Create a DataFrame called `fare` containing only the 'Fare' column\n",
        "fare = df[['Fare']]\n",
        "print(\"Head of 'fare' DataFrame:\")\n",
        "print(fare.head())"
      ],
      "metadata": {
        "colab": {
          "base_uri": "https://localhost:8080/"
        },
        "id": "k3HI-TfxDSdN",
        "outputId": "d9210108-13f3-46c1-d638-fe9d617c3e4c"
      },
      "execution_count": 4,
      "outputs": [
        {
          "output_type": "stream",
          "name": "stdout",
          "text": [
            "Head of 'fare' DataFrame:\n",
            "      Fare\n",
            "0   7.2500\n",
            "1  71.2833\n",
            "2   7.9250\n",
            "3  53.1000\n",
            "4   8.0500\n"
          ]
        }
      ]
    },
    {
      "cell_type": "code",
      "source": [
        "# Task 2: Create a DataFrame called `class_age` containing only the 'Pclass' and 'Age' columns\n",
        "class_age = df[['Pclass', 'Age']]\n",
        "print(\"\\nHead of 'class_age' DataFrame:\")\n",
        "print(class_age.head())"
      ],
      "metadata": {
        "colab": {
          "base_uri": "https://localhost:8080/"
        },
        "id": "rjs80ksMDfrD",
        "outputId": "ae8438da-9b0e-455c-f089-f6bae7a59c75"
      },
      "execution_count": 5,
      "outputs": [
        {
          "output_type": "stream",
          "name": "stdout",
          "text": [
            "\n",
            "Head of 'class_age' DataFrame:\n",
            "   Pclass   Age\n",
            "0       3  22.0\n",
            "1       1  38.0\n",
            "2       3  26.0\n",
            "3       1  35.0\n",
            "4       3  35.0\n"
          ]
        }
      ]
    },
    {
      "cell_type": "code",
      "source": [
        "# Task 3: Create a DataFrame called `survived_gender` containing only the 'Survived' and 'Sex' columns\n",
        "survived_gender = df[['Survived', 'Sex']]\n",
        "print(\"\\nHead of 'survived_gender' DataFrame:\")\n",
        "print(survived_gender.head())"
      ],
      "metadata": {
        "colab": {
          "base_uri": "https://localhost:8080/"
        },
        "id": "sGvHNFY0Dp1Q",
        "outputId": "6a66ded0-1016-4bd3-ee13-056692683f44"
      },
      "execution_count": 6,
      "outputs": [
        {
          "output_type": "stream",
          "name": "stdout",
          "text": [
            "\n",
            "Head of 'survived_gender' DataFrame:\n",
            "   Survived     Sex\n",
            "0         0    male\n",
            "1         1  female\n",
            "2         1  female\n",
            "3         1  female\n",
            "4         0    male\n"
          ]
        }
      ]
    },
    {
      "cell_type": "markdown",
      "source": [
        "Problem 2:\n",
        "\n",
        "Subsetting Rows:\n",
        "1. Filter the Titanic dataset for cases where the passenger’s fare is greater than 100, assigning it\n",
        "to fare gt 100.View the printed result.\n",
        "2. Filter the Titanic dataset for cases where the passenger’s class (Pclass) is 1, assigning it to\n",
        "first class.View the printed result.\n",
        "3. Filter the Titanic dataset for cases where the passenger’s age is less than 18 and the passenger\n",
        "is female (Sex is \"female\"), assigning it to female under 18. View the printed result."
      ],
      "metadata": {
        "id": "_ZL2FGssOJMl"
      }
    },
    {
      "cell_type": "code",
      "source": [
        "import pandas as pd\n",
        "\n",
        "# Load the Titanic dataset (replace the path with your actual dataset location)\n",
        "df2 = pd.read_csv(\"/content/drive/MyDrive/Datasets/Titanic-Dataset.csv\")\n",
        "\n"
      ],
      "metadata": {
        "id": "FteyOs3OOVfo"
      },
      "execution_count": 7,
      "outputs": []
    },
    {
      "cell_type": "code",
      "source": [
        "# 1. Filter for passengers with fare greater than 100\n",
        "fare_gt_100 = df2[df2['Fare'] > 100]\n",
        "print(\"Passengers with fare greater than 100:\")\n",
        "print(fare_gt_100.head())"
      ],
      "metadata": {
        "id": "QHRmBic1O0u_",
        "colab": {
          "base_uri": "https://localhost:8080/"
        },
        "outputId": "a29f3217-a8e9-4caf-eaa6-92dd5ca9a3bd"
      },
      "execution_count": 8,
      "outputs": [
        {
          "output_type": "stream",
          "name": "stdout",
          "text": [
            "Passengers with fare greater than 100:\n",
            "     PassengerId  Survived  Pclass  \\\n",
            "27            28         0       1   \n",
            "31            32         1       1   \n",
            "88            89         1       1   \n",
            "118          119         0       1   \n",
            "195          196         1       1   \n",
            "\n",
            "                                               Name     Sex   Age  SibSp  \\\n",
            "27                   Fortune, Mr. Charles Alexander    male  19.0      3   \n",
            "31   Spencer, Mrs. William Augustus (Marie Eugenie)  female   NaN      1   \n",
            "88                       Fortune, Miss. Mabel Helen  female  23.0      3   \n",
            "118                        Baxter, Mr. Quigg Edmond    male  24.0      0   \n",
            "195                            Lurette, Miss. Elise  female  58.0      0   \n",
            "\n",
            "     Parch    Ticket      Fare        Cabin Embarked  \n",
            "27       2     19950  263.0000  C23 C25 C27        S  \n",
            "31       0  PC 17569  146.5208          B78        C  \n",
            "88       2     19950  263.0000  C23 C25 C27        S  \n",
            "118      1  PC 17558  247.5208      B58 B60        C  \n",
            "195      0  PC 17569  146.5208          B80        C  \n"
          ]
        }
      ]
    },
    {
      "cell_type": "code",
      "source": [
        "# 2. Filter for passengers in class 1 (Pclass = 1)\n",
        "first_class = df2[df2['Pclass'] == 1]\n",
        "print(\"\\nPassengers in first class (Pclass = 1):\")\n",
        "print(first_class)"
      ],
      "metadata": {
        "colab": {
          "base_uri": "https://localhost:8080/"
        },
        "id": "wSNV6duzo-Gk",
        "outputId": "77c8cdc5-2b7e-471f-a8f3-51c98e1d074b"
      },
      "execution_count": 9,
      "outputs": [
        {
          "output_type": "stream",
          "name": "stdout",
          "text": [
            "\n",
            "Passengers in first class (Pclass = 1):\n",
            "     PassengerId  Survived  Pclass  \\\n",
            "1              2         1       1   \n",
            "3              4         1       1   \n",
            "6              7         0       1   \n",
            "11            12         1       1   \n",
            "23            24         1       1   \n",
            "..           ...       ...     ...   \n",
            "871          872         1       1   \n",
            "872          873         0       1   \n",
            "879          880         1       1   \n",
            "887          888         1       1   \n",
            "889          890         1       1   \n",
            "\n",
            "                                                  Name     Sex   Age  SibSp  \\\n",
            "1    Cumings, Mrs. John Bradley (Florence Briggs Th...  female  38.0      1   \n",
            "3         Futrelle, Mrs. Jacques Heath (Lily May Peel)  female  35.0      1   \n",
            "6                              McCarthy, Mr. Timothy J    male  54.0      0   \n",
            "11                            Bonnell, Miss. Elizabeth  female  58.0      0   \n",
            "23                        Sloper, Mr. William Thompson    male  28.0      0   \n",
            "..                                                 ...     ...   ...    ...   \n",
            "871   Beckwith, Mrs. Richard Leonard (Sallie Monypeny)  female  47.0      1   \n",
            "872                           Carlsson, Mr. Frans Olof    male  33.0      0   \n",
            "879      Potter, Mrs. Thomas Jr (Lily Alexenia Wilson)  female  56.0      0   \n",
            "887                       Graham, Miss. Margaret Edith  female  19.0      0   \n",
            "889                              Behr, Mr. Karl Howell    male  26.0      0   \n",
            "\n",
            "     Parch    Ticket     Fare        Cabin Embarked  \n",
            "1        0  PC 17599  71.2833          C85        C  \n",
            "3        0    113803  53.1000         C123        S  \n",
            "6        0     17463  51.8625          E46        S  \n",
            "11       0    113783  26.5500         C103        S  \n",
            "23       0    113788  35.5000           A6        S  \n",
            "..     ...       ...      ...          ...      ...  \n",
            "871      1     11751  52.5542          D35        S  \n",
            "872      0       695   5.0000  B51 B53 B55        S  \n",
            "879      1     11767  83.1583          C50        C  \n",
            "887      0    112053  30.0000          B42        S  \n",
            "889      0    111369  30.0000         C148        C  \n",
            "\n",
            "[216 rows x 12 columns]\n"
          ]
        }
      ]
    },
    {
      "cell_type": "code",
      "source": [
        "# 3. Filter for female passengers under 18 years old\n",
        "female_under_18 = df2[(df2['Age'] < 18) & (df2['Sex'] == 'female')]\n",
        "print(\"\\nFemale passengers under 18:\")\n",
        "print(female_under_18.head())"
      ],
      "metadata": {
        "colab": {
          "base_uri": "https://localhost:8080/"
        },
        "id": "owxXZgQZpeeQ",
        "outputId": "1bdfdec4-5289-4ac3-cf61-767d8e45cb7b"
      },
      "execution_count": 10,
      "outputs": [
        {
          "output_type": "stream",
          "name": "stdout",
          "text": [
            "\n",
            "Female passengers under 18:\n",
            "    PassengerId  Survived  Pclass                                  Name  \\\n",
            "9            10         1       2   Nasser, Mrs. Nicholas (Adele Achem)   \n",
            "10           11         1       3       Sandstrom, Miss. Marguerite Rut   \n",
            "14           15         0       3  Vestrom, Miss. Hulda Amanda Adolfina   \n",
            "22           23         1       3           McGowan, Miss. Anna \"Annie\"   \n",
            "24           25         0       3         Palsson, Miss. Torborg Danira   \n",
            "\n",
            "       Sex   Age  SibSp  Parch   Ticket     Fare Cabin Embarked  \n",
            "9   female  14.0      1      0   237736  30.0708   NaN        C  \n",
            "10  female   4.0      1      1  PP 9549  16.7000    G6        S  \n",
            "14  female  14.0      0      0   350406   7.8542   NaN        S  \n",
            "22  female  15.0      0      0   330923   8.0292   NaN        Q  \n",
            "24  female   8.0      3      1   349909  21.0750   NaN        S  \n"
          ]
        }
      ]
    },
    {
      "cell_type": "markdown",
      "source": [
        "Subsetting Rows by Categorical variables:\n",
        "1. Filter the Titanic dataset for passengers whose Embarked port is either \"C\" (Cherbourg) or \"S\"\n",
        "(Southampton), assigning the result to embarked c or s. View the printed result.\n",
        "2. Filter the Titanic dataset for passengers whose Pclass is in the list [1, 2] (indicating first\n",
        "or second class), assigning the result to first second class.View the printed result."
      ],
      "metadata": {
        "id": "YaL6d3rvr0RC"
      }
    },
    {
      "cell_type": "code",
      "source": [
        "# 1. Filter for passengers whose Embarked port is either \"C\" or \"S\"\n",
        "embarked_c_or_s = df2[df2['Embarked'].isin(['C', 'S'])]\n",
        "print(\"Passengers who embarked at port 'C' (Cherbourg) or 'S' (Southampton):\")\n",
        "print(embarked_c_or_s)"
      ],
      "metadata": {
        "colab": {
          "base_uri": "https://localhost:8080/"
        },
        "id": "hp6KZY5kpcia",
        "outputId": "285420bd-a0b0-4609-be13-d25fab2f1035"
      },
      "execution_count": 11,
      "outputs": [
        {
          "output_type": "stream",
          "name": "stdout",
          "text": [
            "Passengers who embarked at port 'C' (Cherbourg) or 'S' (Southampton):\n",
            "     PassengerId  Survived  Pclass  \\\n",
            "0              1         0       3   \n",
            "1              2         1       1   \n",
            "2              3         1       3   \n",
            "3              4         1       1   \n",
            "4              5         0       3   \n",
            "..           ...       ...     ...   \n",
            "884          885         0       3   \n",
            "886          887         0       2   \n",
            "887          888         1       1   \n",
            "888          889         0       3   \n",
            "889          890         1       1   \n",
            "\n",
            "                                                  Name     Sex   Age  SibSp  \\\n",
            "0                              Braund, Mr. Owen Harris    male  22.0      1   \n",
            "1    Cumings, Mrs. John Bradley (Florence Briggs Th...  female  38.0      1   \n",
            "2                               Heikkinen, Miss. Laina  female  26.0      0   \n",
            "3         Futrelle, Mrs. Jacques Heath (Lily May Peel)  female  35.0      1   \n",
            "4                             Allen, Mr. William Henry    male  35.0      0   \n",
            "..                                                 ...     ...   ...    ...   \n",
            "884                             Sutehall, Mr. Henry Jr    male  25.0      0   \n",
            "886                              Montvila, Rev. Juozas    male  27.0      0   \n",
            "887                       Graham, Miss. Margaret Edith  female  19.0      0   \n",
            "888           Johnston, Miss. Catherine Helen \"Carrie\"  female   NaN      1   \n",
            "889                              Behr, Mr. Karl Howell    male  26.0      0   \n",
            "\n",
            "     Parch            Ticket     Fare Cabin Embarked  \n",
            "0        0         A/5 21171   7.2500   NaN        S  \n",
            "1        0          PC 17599  71.2833   C85        C  \n",
            "2        0  STON/O2. 3101282   7.9250   NaN        S  \n",
            "3        0            113803  53.1000  C123        S  \n",
            "4        0            373450   8.0500   NaN        S  \n",
            "..     ...               ...      ...   ...      ...  \n",
            "884      0   SOTON/OQ 392076   7.0500   NaN        S  \n",
            "886      0            211536  13.0000   NaN        S  \n",
            "887      0            112053  30.0000   B42        S  \n",
            "888      2        W./C. 6607  23.4500   NaN        S  \n",
            "889      0            111369  30.0000  C148        C  \n",
            "\n",
            "[812 rows x 12 columns]\n"
          ]
        }
      ]
    },
    {
      "cell_type": "code",
      "source": [
        "# 2. Filter for passengers whose Pclass is in the list [1, 2]\n",
        "first_second_class = df2[df2['Pclass'].isin([1, 2])]\n",
        "print(\"\\nPassengers in first or second class (Pclass in [1, 2]):\")\n",
        "print(first_second_class)"
      ],
      "metadata": {
        "colab": {
          "base_uri": "https://localhost:8080/"
        },
        "id": "b67-UWx7riWd",
        "outputId": "7ae8508f-d532-42bf-f10b-5c0502536896"
      },
      "execution_count": 12,
      "outputs": [
        {
          "output_type": "stream",
          "name": "stdout",
          "text": [
            "\n",
            "Passengers in first or second class (Pclass in [1, 2]):\n",
            "     PassengerId  Survived  Pclass  \\\n",
            "1              2         1       1   \n",
            "3              4         1       1   \n",
            "6              7         0       1   \n",
            "9             10         1       2   \n",
            "11            12         1       1   \n",
            "..           ...       ...     ...   \n",
            "880          881         1       2   \n",
            "883          884         0       2   \n",
            "886          887         0       2   \n",
            "887          888         1       1   \n",
            "889          890         1       1   \n",
            "\n",
            "                                                  Name     Sex   Age  SibSp  \\\n",
            "1    Cumings, Mrs. John Bradley (Florence Briggs Th...  female  38.0      1   \n",
            "3         Futrelle, Mrs. Jacques Heath (Lily May Peel)  female  35.0      1   \n",
            "6                              McCarthy, Mr. Timothy J    male  54.0      0   \n",
            "9                  Nasser, Mrs. Nicholas (Adele Achem)  female  14.0      1   \n",
            "11                            Bonnell, Miss. Elizabeth  female  58.0      0   \n",
            "..                                                 ...     ...   ...    ...   \n",
            "880       Shelley, Mrs. William (Imanita Parrish Hall)  female  25.0      0   \n",
            "883                      Banfield, Mr. Frederick James    male  28.0      0   \n",
            "886                              Montvila, Rev. Juozas    male  27.0      0   \n",
            "887                       Graham, Miss. Margaret Edith  female  19.0      0   \n",
            "889                              Behr, Mr. Karl Howell    male  26.0      0   \n",
            "\n",
            "     Parch            Ticket     Fare Cabin Embarked  \n",
            "1        0          PC 17599  71.2833   C85        C  \n",
            "3        0            113803  53.1000  C123        S  \n",
            "6        0             17463  51.8625   E46        S  \n",
            "9        0            237736  30.0708   NaN        C  \n",
            "11       0            113783  26.5500  C103        S  \n",
            "..     ...               ...      ...   ...      ...  \n",
            "880      1            230433  26.0000   NaN        S  \n",
            "883      0  C.A./SOTON 34068  10.5000   NaN        S  \n",
            "886      0            211536  13.0000   NaN        S  \n",
            "887      0            112053  30.0000   B42        S  \n",
            "889      0            111369  30.0000  C148        C  \n",
            "\n",
            "[400 rows x 12 columns]\n"
          ]
        }
      ]
    },
    {
      "cell_type": "markdown",
      "source": [
        "3.2 Exploratory Data Analysis Practice\n",
        "\n",
        " Exercise - 1.\n",
        "\n",
        " Answer the following questions from Dataset:\n",
        "Which passenger had the highest fare paid relative to their age?\n",
        "To answer the question perform following operations:\n",
        "1. Add a column to the Titanic dataset, fare per year, containing the fare divided by the age of\n",
        "the passenger(i.e., Fare/Age).\n",
        "2. Subset rows where fare per year is higher than 5, assigning this to high fare age.\n",
        "3. Sort high fare age by descending fare per year, assigning this to high fare age srt.\n",
        "4. Select only the Name and fare per year columns of high fare age srt and save the result as result.\n",
        "5. Look at the result."
      ],
      "metadata": {
        "id": "UKz8tYHxr8F4"
      }
    },
    {
      "cell_type": "code",
      "source": [
        "import pandas as pd\n",
        "\n",
        "df2 = pd.read_csv(\"/content/drive/MyDrive/Datasets/Titanic-Dataset.csv\")"
      ],
      "metadata": {
        "id": "eUzUTHoer6tK"
      },
      "execution_count": 13,
      "outputs": []
    },
    {
      "cell_type": "code",
      "source": [
        "\n",
        "#Handle missing values in the Age column by filling them with the median age\n",
        "median_age = df2['Age'].median()\n",
        "df2['Age'] = df2['Age'].fillna(median_age)\n",
        "\n",
        "#Add a column 'fare_per_year' (Fare divided by Age)\n",
        "df2['fare_per_year'] = df2['Fare'] / df2['Age']\n",
        "\n",
        "#Subset rows where fare_per_year > 5\n",
        "high_fare_age = df2[df2['fare_per_year'] > 5]\n",
        "print(\"Passengers with high fare paid relative to their age:\")\n",
        "print(high_fare_age.head())\n",
        "print(\"\\n\")\n",
        "\n",
        "#Sort the subset by descending fare_per_year\n",
        "high_fare_age_srt = high_fare_age.sort_values(by='fare_per_year', ascending=False)\n",
        "\n",
        "#Select only the 'Name' and 'fare_per_year' columns\n",
        "result = high_fare_age_srt[['Name', 'fare_per_year']]\n",
        "\n",
        "#Print the result\n",
        "print(\"Passenger with the highest fare paid relative to their age:\")\n",
        "print(result.iloc[0])\n"
      ],
      "metadata": {
        "colab": {
          "base_uri": "https://localhost:8080/"
        },
        "id": "spEqAHiUvyI3",
        "outputId": "2028c928-4b65-4f7a-f03d-8f8139fcca28"
      },
      "execution_count": 14,
      "outputs": [
        {
          "output_type": "stream",
          "name": "stdout",
          "text": [
            "Passengers with high fare paid relative to their age:\n",
            "    PassengerId  Survived  Pclass  \\\n",
            "7             8         0       3   \n",
            "16           17         0       3   \n",
            "27           28         0       1   \n",
            "31           32         1       1   \n",
            "43           44         1       2   \n",
            "\n",
            "                                              Name     Sex   Age  SibSp  \\\n",
            "7                   Palsson, Master. Gosta Leonard    male   2.0      3   \n",
            "16                            Rice, Master. Eugene    male   2.0      4   \n",
            "27                  Fortune, Mr. Charles Alexander    male  19.0      3   \n",
            "31  Spencer, Mrs. William Augustus (Marie Eugenie)  female  28.0      1   \n",
            "43        Laroche, Miss. Simonne Marie Anne Andree  female   3.0      1   \n",
            "\n",
            "    Parch         Ticket      Fare        Cabin Embarked  fare_per_year  \n",
            "7       1         349909   21.0750          NaN        S      10.537500  \n",
            "16      1         382652   29.1250          NaN        Q      14.562500  \n",
            "27      2          19950  263.0000  C23 C25 C27        S      13.842105  \n",
            "31      0       PC 17569  146.5208          B78        C       5.232886  \n",
            "43      2  SC/Paris 2123   41.5792          NaN        C      13.859733  \n",
            "\n",
            "\n",
            "Passenger with the highest fare paid relative to their age:\n",
            "Name             Allison, Master. Hudson Trevor\n",
            "fare_per_year                        164.728261\n",
            "Name: 305, dtype: object\n"
          ]
        }
      ]
    },
    {
      "cell_type": "markdown",
      "source": [
        "Which adult male passenger (age ≥ 18 and Sex is ’male’) paid the highest fare relative to their\n",
        "class?\n",
        "To answer the question perform following operations:\n",
        "1. Add a column to the Titanic dataset, fare per class, containing the fare divided by the passenger\n",
        "class i.e. Fare / Pclass.\n",
        "2. Subset rows where the passenger is male (Sex is ”male”) and an adult (Age is greater than or equal\n",
        "to 18), assigning this to adult males.\n",
        "3. Sort adult males by descending fare per class, assigning this to adult males srt.\n",
        "4. Select only the Name, Age, and fare per class columns of adult males sr and save the result\n",
        "as result.\n",
        "5. Look at the result."
      ],
      "metadata": {
        "id": "7eAs5XIz0kdL"
      }
    },
    {
      "cell_type": "code",
      "source": [
        "import pandas as pd\n",
        "\n",
        "df2 = pd.read_csv(\"/content/drive/MyDrive/Datasets/Titanic-Dataset.csv\")\n",
        "\n",
        "# Fill missing Age values with the median\n",
        "df2['Age'] = df2['Age'].fillna(df2['Age'].median())\n",
        "\n",
        "# Step 1: Add a column 'fare_per_class'\n",
        "df2['fare_per_class'] = df2['Fare'] / df2['Pclass']\n",
        "\n",
        "#Filter adult male passengers\n",
        "adult_males = df2[(df2['Sex'] == 'male') & (df2['Age'] >= 18)]\n",
        "print(\"Adult male passengers:\")\n",
        "print(adult_males)\n",
        "\n"
      ],
      "metadata": {
        "colab": {
          "base_uri": "https://localhost:8080/"
        },
        "id": "OHY8HuAu0l4A",
        "outputId": "6edc99dd-2ff4-499c-9f3a-c4bfa766954c"
      },
      "execution_count": 15,
      "outputs": [
        {
          "output_type": "stream",
          "name": "stdout",
          "text": [
            "Adult male passengers:\n",
            "     PassengerId  Survived  Pclass                            Name   Sex  \\\n",
            "0              1         0       3         Braund, Mr. Owen Harris  male   \n",
            "4              5         0       3        Allen, Mr. William Henry  male   \n",
            "5              6         0       3                Moran, Mr. James  male   \n",
            "6              7         0       1         McCarthy, Mr. Timothy J  male   \n",
            "12            13         0       3  Saundercock, Mr. William Henry  male   \n",
            "..           ...       ...     ...                             ...   ...   \n",
            "883          884         0       2   Banfield, Mr. Frederick James  male   \n",
            "884          885         0       3          Sutehall, Mr. Henry Jr  male   \n",
            "886          887         0       2           Montvila, Rev. Juozas  male   \n",
            "889          890         1       1           Behr, Mr. Karl Howell  male   \n",
            "890          891         0       3             Dooley, Mr. Patrick  male   \n",
            "\n",
            "      Age  SibSp  Parch            Ticket     Fare Cabin Embarked  \\\n",
            "0    22.0      1      0         A/5 21171   7.2500   NaN        S   \n",
            "4    35.0      0      0            373450   8.0500   NaN        S   \n",
            "5    28.0      0      0            330877   8.4583   NaN        Q   \n",
            "6    54.0      0      0             17463  51.8625   E46        S   \n",
            "12   20.0      0      0         A/5. 2151   8.0500   NaN        S   \n",
            "..    ...    ...    ...               ...      ...   ...      ...   \n",
            "883  28.0      0      0  C.A./SOTON 34068  10.5000   NaN        S   \n",
            "884  25.0      0      0   SOTON/OQ 392076   7.0500   NaN        S   \n",
            "886  27.0      0      0            211536  13.0000   NaN        S   \n",
            "889  26.0      0      0            111369  30.0000  C148        C   \n",
            "890  32.0      0      0            370376   7.7500   NaN        Q   \n",
            "\n",
            "     fare_per_class  \n",
            "0          2.416667  \n",
            "4          2.683333  \n",
            "5          2.819433  \n",
            "6         51.862500  \n",
            "12         2.683333  \n",
            "..              ...  \n",
            "883        5.250000  \n",
            "884        2.350000  \n",
            "886        6.500000  \n",
            "889       30.000000  \n",
            "890        2.583333  \n",
            "\n",
            "[519 rows x 13 columns]\n"
          ]
        }
      ]
    },
    {
      "cell_type": "code",
      "source": [
        "#Sort by descending 'fare_per_class'\n",
        "adult_males_srt = adult_males.sort_values(by='fare_per_class', ascending=False)\n",
        "print(\"Adult male passengers sorted by fare per class:\")\n",
        "print(adult_males_srt)"
      ],
      "metadata": {
        "colab": {
          "base_uri": "https://localhost:8080/"
        },
        "id": "07yVf0uaFUEx",
        "outputId": "93309918-c08a-4774-a224-1dbd0732ad2f"
      },
      "execution_count": 16,
      "outputs": [
        {
          "output_type": "stream",
          "name": "stdout",
          "text": [
            "Adult male passengers sorted by fare per class:\n",
            "     PassengerId  Survived  Pclass                                Name   Sex  \\\n",
            "737          738         1       1              Lesurer, Mr. Gustave J  male   \n",
            "679          680         1       1  Cardeza, Mr. Thomas Drake Martinez  male   \n",
            "438          439         0       1                   Fortune, Mr. Mark  male   \n",
            "27            28         0       1      Fortune, Mr. Charles Alexander  male   \n",
            "118          119         0       1            Baxter, Mr. Quigg Edmond  male   \n",
            "..           ...       ...     ...                                 ...   ...   \n",
            "806          807         0       1              Andrews, Mr. Thomas Jr  male   \n",
            "481          482         0       2    Frost, Mr. Anthony Wood \"Archie\"  male   \n",
            "413          414         0       2      Cunningham, Mr. Alfred Fleming  male   \n",
            "466          467         0       2               Campbell, Mr. William  male   \n",
            "271          272         1       3        Tornquist, Mr. William Henry  male   \n",
            "\n",
            "      Age  SibSp  Parch    Ticket      Fare        Cabin Embarked  \\\n",
            "737  35.0      0      0  PC 17755  512.3292         B101        C   \n",
            "679  36.0      0      1  PC 17755  512.3292  B51 B53 B55        C   \n",
            "438  64.0      1      4     19950  263.0000  C23 C25 C27        S   \n",
            "27   19.0      3      2     19950  263.0000  C23 C25 C27        S   \n",
            "118  24.0      0      1  PC 17558  247.5208      B58 B60        C   \n",
            "..    ...    ...    ...       ...       ...          ...      ...   \n",
            "806  39.0      0      0    112050    0.0000          A36        S   \n",
            "481  28.0      0      0    239854    0.0000          NaN        S   \n",
            "413  28.0      0      0    239853    0.0000          NaN        S   \n",
            "466  28.0      0      0    239853    0.0000          NaN        S   \n",
            "271  25.0      0      0      LINE    0.0000          NaN        S   \n",
            "\n",
            "     fare_per_class  \n",
            "737        512.3292  \n",
            "679        512.3292  \n",
            "438        263.0000  \n",
            "27         263.0000  \n",
            "118        247.5208  \n",
            "..              ...  \n",
            "806          0.0000  \n",
            "481          0.0000  \n",
            "413          0.0000  \n",
            "466          0.0000  \n",
            "271          0.0000  \n",
            "\n",
            "[519 rows x 13 columns]\n"
          ]
        }
      ]
    },
    {
      "cell_type": "code",
      "source": [
        "#Select only 'Name', 'Age', and 'fare_per_class' columns\n",
        "result = adult_males_srt[['Name', 'Age', 'fare_per_class']]\n",
        "\n",
        "#Print the result\n",
        "print(\"Adult male passenger with the highest fare relative to their class:\")\n",
        "print(result.iloc[0])\n"
      ],
      "metadata": {
        "colab": {
          "base_uri": "https://localhost:8080/"
        },
        "id": "Jluj67lIGDuT",
        "outputId": "db3b3e82-a140-4821-d466-1a521d68dba6"
      },
      "execution_count": 17,
      "outputs": [
        {
          "output_type": "stream",
          "name": "stdout",
          "text": [
            "Adult male passenger with the highest fare relative to their class:\n",
            "Name              Lesurer, Mr. Gustave J\n",
            "Age                                 35.0\n",
            "fare_per_class                  512.3292\n",
            "Name: 737, dtype: object\n"
          ]
        }
      ]
    },
    {
      "cell_type": "markdown",
      "source": [
        "3.3 Exploratory Data Analysis with Group-by Method Practice\n",
        "\n",
        " Exercise:\n",
        "Based on the dataset Answer the following question:\n",
        "\n",
        "\n",
        "What percent of the total fare revenue came from each passenger class?\n",
        "To answer the question perform following operation:\n",
        "1. Calculate the total Fare paid across all passengers in the Titanic dataset.\n",
        "2. Subset for passengers in first class (Pclass is 1) and calculate their total fare.\n",
        "3. Do the same for second class (Pclass is 2) and third class (Pclass is 3).\n",
        "4. Combine the fare totals from first, second, and third classes into a list.\n",
        "5. Divide the totals for each class by the overall total fare to get the proportion of fare revenue by class."
      ],
      "metadata": {
        "id": "4SM3TMiP0_GJ"
      }
    },
    {
      "cell_type": "code",
      "source": [
        "import pandas as pd\n",
        "\n",
        "df2 = pd.read_csv(\"/content/drive/MyDrive/Datasets/Titanic-Dataset.csv\")\n",
        "\n",
        "#Calculate the total Fare paid across all passengers\n",
        "total_fare = df2['Fare'].sum()\n",
        "print(\"Total fare paid by all passengers: \")\n",
        "print(total_fare)\n",
        "\n",
        "#Use groupby to calculate total fare per class and list is made automatically\n",
        "totalFare_perClass = df2.groupby('Pclass')['Fare'].sum()\n",
        "print(\"Total fare paid by each class: \")\n",
        "print(totalFare_perClass)\n",
        "\n",
        "#Calculate the percentage of total fare revenue by class\n",
        "class_fare_percent = (totalFare_perClass / total_fare) * 100\n",
        "\n",
        "#Display the percentage of total fare revenue by class\n",
        "print(\"Percentage of total fare revenue from each class:\")\n",
        "print(class_fare_percent)\n"
      ],
      "metadata": {
        "colab": {
          "base_uri": "https://localhost:8080/"
        },
        "id": "yDQylnkk2rhH",
        "outputId": "5c63432b-dcab-4b6b-a23a-3bfe91c540cb"
      },
      "execution_count": 18,
      "outputs": [
        {
          "output_type": "stream",
          "name": "stdout",
          "text": [
            "Total fare paid by all passengers: \n",
            "28693.9493\n",
            "Total fare paid by each class: \n",
            "Pclass\n",
            "1    18177.4125\n",
            "2     3801.8417\n",
            "3     6714.6951\n",
            "Name: Fare, dtype: float64\n",
            "Percentage of total fare revenue from each class:\n",
            "Pclass\n",
            "1    63.349288\n",
            "2    13.249629\n",
            "3    23.401084\n",
            "Name: Fare, dtype: float64\n"
          ]
        }
      ]
    },
    {
      "cell_type": "markdown",
      "source": [
        "What percent of the total number of passengers on the Titanic belonged to each age group\n",
        "(e.g., child, adult, senior)?\n",
        "To answer the question perform following operation:\n",
        "1. Create a new column, age group, that categorizes passengers into \"child\" (age < 18), \"adult\" (age\n",
        "18{64), and \"senior\" (age 65 and above).\n",
        "2. Calculate the total number of passengers on the Titanic.\n",
        "3. Count the number of passengers in each age group.\n",
        "4. Divide the count of each age group by the total number of passengers to get the proportion of passengers\n",
        "in each age group.\n",
        "5. Display the proportion as a percentage."
      ],
      "metadata": {
        "id": "TqgwsZDg5Cr9"
      }
    },
    {
      "cell_type": "code",
      "source": [
        "import pandas as pd\n",
        "\n",
        "# Load the Titanic dataset\n",
        "df2 = pd.read_csv(\"/content/drive/MyDrive/Datasets/Titanic-Dataset.csv\")\n",
        "\n",
        "#Create a new column 'age_group' that categorizes passengers\n",
        "df2['age_group'] = ['child' if age < 18 else 'adult' if age < 65 else 'senior' for age in df2['Age']]\n",
        "\n",
        "#Calculate the total number of passengers on the Titanic\n",
        "total_passengers = len(df2)\n",
        "print(\"The total number of passengers on the titanic: \")\n",
        "print(total_passengers)\n",
        "\n",
        "\n",
        "#Count the number of passengers in each age group\n",
        "passengers_counts = df2['age_group'].value_counts()\n",
        "print(\"The number of passengers in each age group: \")\n",
        "print(passengers_counts)\n",
        "\n",
        "#Calculate the proportion of passengers in each age group\n",
        "proportion_of_passengers = (passengers_counts / total_passengers) * 100\n",
        "\n",
        "#Display the proportion as a percentage\n",
        "print(\"Percentage of passengers in each age group:\")\n",
        "print(proportion_of_passengers)\n"
      ],
      "metadata": {
        "colab": {
          "base_uri": "https://localhost:8080/"
        },
        "id": "q0q_JHzZ6I_a",
        "outputId": "7097d496-4e29-4703-a697-b6262606df9b"
      },
      "execution_count": 19,
      "outputs": [
        {
          "output_type": "stream",
          "name": "stdout",
          "text": [
            "The total number of passengers on the titanic: \n",
            "891\n",
            "The number of passengers in each age group: \n",
            "age_group\n",
            "adult     590\n",
            "senior    188\n",
            "child     113\n",
            "Name: count, dtype: int64\n",
            "Percentage of passengers in each age group:\n",
            "age_group\n",
            "adult     66.217733\n",
            "senior    21.099888\n",
            "child     12.682379\n",
            "Name: count, dtype: float64\n"
          ]
        }
      ]
    },
    {
      "cell_type": "code",
      "source": [],
      "metadata": {
        "id": "i7n4hRqwApLS"
      },
      "execution_count": 19,
      "outputs": []
    }
  ]
}